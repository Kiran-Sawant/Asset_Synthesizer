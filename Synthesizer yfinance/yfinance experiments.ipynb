{
 "cells": [
  {
   "cell_type": "code",
   "execution_count": 9,
   "id": "numerical-logan",
   "metadata": {},
   "outputs": [],
   "source": [
    "import pandas as pd\n",
    "import yfinance as yf\n",
    "import datetime as dt"
   ]
  },
  {
   "cell_type": "code",
   "execution_count": 10,
   "id": "bizarre-vocabulary",
   "metadata": {},
   "outputs": [],
   "source": [
    "pd.set_option('precision', 2)"
   ]
  },
  {
   "cell_type": "code",
   "execution_count": 11,
   "id": "laughing-geography",
   "metadata": {},
   "outputs": [],
   "source": [
    "past = dt.datetime(2021, 1, 1)\n",
    "now = dt.datetime(2021, 1, 2)"
   ]
  },
  {
   "cell_type": "code",
   "execution_count": 19,
   "metadata": {},
   "outputs": [],
   "source": [
    "snp = yf.Ticker('ES=F')\n",
    "gold = yf.Ticker('SI=F')"
   ]
  },
  {
   "cell_type": "code",
   "execution_count": 20,
   "metadata": {},
   "outputs": [
    {
     "output_type": "execute_result",
     "data": {
      "text/plain": [
       "             Open   High    Low  Close\n",
       "Date                                  \n",
       "2021-04-12  25.15  25.17  24.81  24.85\n",
       "2021-04-13  25.42  25.42  25.42  25.42\n",
       "2021-04-14  25.51  25.51  25.51  25.51\n",
       "2021-04-15  25.48  25.71  25.38  25.67"
      ],
      "text/html": "<div>\n<style scoped>\n    .dataframe tbody tr th:only-of-type {\n        vertical-align: middle;\n    }\n\n    .dataframe tbody tr th {\n        vertical-align: top;\n    }\n\n    .dataframe thead th {\n        text-align: right;\n    }\n</style>\n<table border=\"1\" class=\"dataframe\">\n  <thead>\n    <tr style=\"text-align: right;\">\n      <th></th>\n      <th>Open</th>\n      <th>High</th>\n      <th>Low</th>\n      <th>Close</th>\n    </tr>\n    <tr>\n      <th>Date</th>\n      <th></th>\n      <th></th>\n      <th></th>\n      <th></th>\n    </tr>\n  </thead>\n  <tbody>\n    <tr>\n      <th>2021-04-12</th>\n      <td>25.15</td>\n      <td>25.17</td>\n      <td>24.81</td>\n      <td>24.85</td>\n    </tr>\n    <tr>\n      <th>2021-04-13</th>\n      <td>25.42</td>\n      <td>25.42</td>\n      <td>25.42</td>\n      <td>25.42</td>\n    </tr>\n    <tr>\n      <th>2021-04-14</th>\n      <td>25.51</td>\n      <td>25.51</td>\n      <td>25.51</td>\n      <td>25.51</td>\n    </tr>\n    <tr>\n      <th>2021-04-15</th>\n      <td>25.48</td>\n      <td>25.71</td>\n      <td>25.38</td>\n      <td>25.67</td>\n    </tr>\n  </tbody>\n</table>\n</div>"
     },
     "metadata": {},
     "execution_count": 20
    }
   ],
   "source": [
    "snp_h = snp.history(period='5d', interval='1d').drop(columns=['Dividends', 'Volume', 'Stock Splits'])\n",
    "gold_h = gold.history(period='5d', interval='1d').drop(columns=['Dividends', 'Volume', 'Stock Splits'])\n",
    "gold_h"
   ]
  },
  {
   "cell_type": "code",
   "execution_count": 16,
   "metadata": {},
   "outputs": [
    {
     "output_type": "execute_result",
     "data": {
      "text/plain": [
       "                Open      High       Low     Close\n",
       "Date                                              \n",
       "2021-04-12  7.16e+06  7.18e+06  7.09e+06  7.13e+06\n",
       "2021-04-13  7.15e+06  7.23e+06  7.06e+06  7.22e+06\n",
       "2021-04-14  7.20e+06  7.24e+06  7.13e+06  7.14e+06\n",
       "2021-04-15  7.16e+06  7.24e+06  7.14e+06  7.23e+06"
      ],
      "text/html": "<div>\n<style scoped>\n    .dataframe tbody tr th:only-of-type {\n        vertical-align: middle;\n    }\n\n    .dataframe tbody tr th {\n        vertical-align: top;\n    }\n\n    .dataframe thead th {\n        text-align: right;\n    }\n</style>\n<table border=\"1\" class=\"dataframe\">\n  <thead>\n    <tr style=\"text-align: right;\">\n      <th></th>\n      <th>Open</th>\n      <th>High</th>\n      <th>Low</th>\n      <th>Close</th>\n    </tr>\n    <tr>\n      <th>Date</th>\n      <th></th>\n      <th></th>\n      <th></th>\n      <th></th>\n    </tr>\n  </thead>\n  <tbody>\n    <tr>\n      <th>2021-04-12</th>\n      <td>7.16e+06</td>\n      <td>7.18e+06</td>\n      <td>7.09e+06</td>\n      <td>7.13e+06</td>\n    </tr>\n    <tr>\n      <th>2021-04-13</th>\n      <td>7.15e+06</td>\n      <td>7.23e+06</td>\n      <td>7.06e+06</td>\n      <td>7.22e+06</td>\n    </tr>\n    <tr>\n      <th>2021-04-14</th>\n      <td>7.20e+06</td>\n      <td>7.24e+06</td>\n      <td>7.13e+06</td>\n      <td>7.14e+06</td>\n    </tr>\n    <tr>\n      <th>2021-04-15</th>\n      <td>7.16e+06</td>\n      <td>7.24e+06</td>\n      <td>7.14e+06</td>\n      <td>7.23e+06</td>\n    </tr>\n  </tbody>\n</table>\n</div>"
     },
     "metadata": {},
     "execution_count": 16
    }
   ],
   "source": [
    "snp_h * gold_h"
   ]
  },
  {
   "cell_type": "code",
   "execution_count": null,
   "metadata": {},
   "outputs": [],
   "source": []
  }
 ],
 "metadata": {
  "kernelspec": {
   "display_name": "yfinance_env",
   "language": "python",
   "name": "yfinance_env"
  },
  "language_info": {
   "codemirror_mode": {
    "name": "ipython",
    "version": 3
   },
   "file_extension": ".py",
   "mimetype": "text/x-python",
   "name": "python",
   "nbconvert_exporter": "python",
   "pygments_lexer": "ipython3",
   "version": "3.7.6"
  }
 },
 "nbformat": 4,
 "nbformat_minor": 5
}