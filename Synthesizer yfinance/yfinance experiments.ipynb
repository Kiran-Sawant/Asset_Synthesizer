{
 "cells": [
  {
   "cell_type": "code",
   "execution_count": 1,
   "id": "numerical-logan",
   "metadata": {},
   "outputs": [],
   "source": [
    "import pandas as pd\n",
    "import yfinance as yf\n",
    "import datetime as dt"
   ]
  },
  {
   "cell_type": "code",
   "execution_count": 2,
   "id": "bizarre-vocabulary",
   "metadata": {},
   "outputs": [],
   "source": [
    "pd.set_option('precision', 2)"
   ]
  },
  {
   "cell_type": "code",
   "execution_count": 6,
   "id": "laughing-geography",
   "metadata": {},
   "outputs": [],
   "source": [
    "past = dt.datetime(2021, 1, 1)\n",
    "now = dt.datetime(2021, 1, 2)"
   ]
  },
  {
   "cell_type": "code",
   "execution_count": 20,
   "metadata": {},
   "outputs": [],
   "source": [
    "snp = yf.Ticker('ES=F')\n",
    "rupee = yf.Ticker('EURUSD=X')"
   ]
  },
  {
   "cell_type": "code",
   "execution_count": 21,
   "metadata": {},
   "outputs": [
    {
     "output_type": "execute_result",
     "data": {
      "text/plain": [
       "            Open  High   Low  Close\n",
       "Date                               \n",
       "2021-03-22  1.19  1.19  1.19   1.19\n",
       "2021-03-23  1.19  1.19  1.19   1.19\n",
       "2021-03-24  1.18  1.19  1.18   1.18\n",
       "2021-03-25  1.18  1.18  1.18   1.18\n",
       "2021-03-26  1.18  1.18  1.18   1.18"
      ],
      "text/html": "<div>\n<style scoped>\n    .dataframe tbody tr th:only-of-type {\n        vertical-align: middle;\n    }\n\n    .dataframe tbody tr th {\n        vertical-align: top;\n    }\n\n    .dataframe thead th {\n        text-align: right;\n    }\n</style>\n<table border=\"1\" class=\"dataframe\">\n  <thead>\n    <tr style=\"text-align: right;\">\n      <th></th>\n      <th>Open</th>\n      <th>High</th>\n      <th>Low</th>\n      <th>Close</th>\n    </tr>\n    <tr>\n      <th>Date</th>\n      <th></th>\n      <th></th>\n      <th></th>\n      <th></th>\n    </tr>\n  </thead>\n  <tbody>\n    <tr>\n      <th>2021-03-22</th>\n      <td>1.19</td>\n      <td>1.19</td>\n      <td>1.19</td>\n      <td>1.19</td>\n    </tr>\n    <tr>\n      <th>2021-03-23</th>\n      <td>1.19</td>\n      <td>1.19</td>\n      <td>1.19</td>\n      <td>1.19</td>\n    </tr>\n    <tr>\n      <th>2021-03-24</th>\n      <td>1.18</td>\n      <td>1.19</td>\n      <td>1.18</td>\n      <td>1.18</td>\n    </tr>\n    <tr>\n      <th>2021-03-25</th>\n      <td>1.18</td>\n      <td>1.18</td>\n      <td>1.18</td>\n      <td>1.18</td>\n    </tr>\n    <tr>\n      <th>2021-03-26</th>\n      <td>1.18</td>\n      <td>1.18</td>\n      <td>1.18</td>\n      <td>1.18</td>\n    </tr>\n  </tbody>\n</table>\n</div>"
     },
     "metadata": {},
     "execution_count": 21
    }
   ],
   "source": [
    "snp_h = snp.history(period='5d', interval='1d').drop(columns=['Dividends', 'Volume', 'Stock Splits'])\n",
    "rup_h = rupee.history(period='5d', interval='1d').drop(columns=['Dividends', 'Volume', 'Stock Splits'])\n",
    "rup_h"
   ]
  },
  {
   "cell_type": "code",
   "execution_count": 23,
   "metadata": {},
   "outputs": [
    {
     "output_type": "execute_result",
     "data": {
      "text/plain": [
       "               Open     High      Low    Close\n",
       "Date                                          \n",
       "2021-03-22  4627.24  4708.73  4613.85  4670.06\n",
       "2021-03-23  4693.67  4704.11  4615.83  4653.58\n",
       "2021-03-24  4624.87  4659.28  4580.63  4594.89\n",
       "2021-03-25  4586.99  4624.98  4525.52  4607.69\n",
       "2021-03-26  4601.50  4683.83  4592.20  4669.14"
      ],
      "text/html": "<div>\n<style scoped>\n    .dataframe tbody tr th:only-of-type {\n        vertical-align: middle;\n    }\n\n    .dataframe tbody tr th {\n        vertical-align: top;\n    }\n\n    .dataframe thead th {\n        text-align: right;\n    }\n</style>\n<table border=\"1\" class=\"dataframe\">\n  <thead>\n    <tr style=\"text-align: right;\">\n      <th></th>\n      <th>Open</th>\n      <th>High</th>\n      <th>Low</th>\n      <th>Close</th>\n    </tr>\n    <tr>\n      <th>Date</th>\n      <th></th>\n      <th></th>\n      <th></th>\n      <th></th>\n    </tr>\n  </thead>\n  <tbody>\n    <tr>\n      <th>2021-03-22</th>\n      <td>4627.24</td>\n      <td>4708.73</td>\n      <td>4613.85</td>\n      <td>4670.06</td>\n    </tr>\n    <tr>\n      <th>2021-03-23</th>\n      <td>4693.67</td>\n      <td>4704.11</td>\n      <td>4615.83</td>\n      <td>4653.58</td>\n    </tr>\n    <tr>\n      <th>2021-03-24</th>\n      <td>4624.87</td>\n      <td>4659.28</td>\n      <td>4580.63</td>\n      <td>4594.89</td>\n    </tr>\n    <tr>\n      <th>2021-03-25</th>\n      <td>4586.99</td>\n      <td>4624.98</td>\n      <td>4525.52</td>\n      <td>4607.69</td>\n    </tr>\n    <tr>\n      <th>2021-03-26</th>\n      <td>4601.50</td>\n      <td>4683.83</td>\n      <td>4592.20</td>\n      <td>4669.14</td>\n    </tr>\n  </tbody>\n</table>\n</div>"
     },
     "metadata": {},
     "execution_count": 23
    }
   ],
   "source": [
    "snp_h * rup_h"
   ]
  },
  {
   "cell_type": "code",
   "execution_count": null,
   "metadata": {},
   "outputs": [],
   "source": []
  }
 ],
 "metadata": {
  "kernelspec": {
   "display_name": "yfinance_env",
   "language": "python",
   "name": "yfinance_env"
  },
  "language_info": {
   "codemirror_mode": {
    "name": "ipython",
    "version": 3
   },
   "file_extension": ".py",
   "mimetype": "text/x-python",
   "name": "python",
   "nbconvert_exporter": "python",
   "pygments_lexer": "ipython3",
   "version": "3.7.6-final"
  }
 },
 "nbformat": 4,
 "nbformat_minor": 5
}